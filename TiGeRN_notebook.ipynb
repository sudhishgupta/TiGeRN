{
 "cells": [
  {
   "cell_type": "code",
   "execution_count": 1,
   "metadata": {},
   "outputs": [],
   "source": [
    "## IMPORTS"
   ]
  },
  {
   "cell_type": "code",
   "execution_count": 4,
   "metadata": {},
   "outputs": [],
   "source": [
    "##signed laplacian spectral clustering\n",
    "import warnings\n",
    "warnings.filterwarnings('ignore')\n",
    "import numpy as np\n",
    "import pandas as pd\n",
    "import networkx as nx\n",
    "import matplotlib.pyplot as plt\n",
    "import seaborn as sns\n",
    "from scipy.sparse.linalg import eigsh\n",
    "from scipy.sparse import csgraph\n",
    "from sklearn.cluster import KMeans\n",
    "from sklearn.metrics import silhouette_score"
   ]
  },
  {
   "cell_type": "code",
   "execution_count": 5,
   "metadata": {},
   "outputs": [],
   "source": [
    "## ALGORITHM CODE"
   ]
  },
  {
   "cell_type": "code",
   "execution_count": 6,
   "metadata": {},
   "outputs": [],
   "source": [
    "def calc_degree_matrix(A):\n",
    "    '''\n",
    "    Calculates the normalized degree matrix D for matrix A.\n",
    "    Handles zero-degree rows to avoid division by zero.\n",
    "    '''\n",
    "    degrees = np.sum(np.abs(A), axis=1)\n",
    "    with np.errstate(divide='ignore'):\n",
    "        D_vals = 1.0 / np.sqrt(degrees)\n",
    "    D_vals[~np.isfinite(D_vals)] = 0.0  # Replace inf or nan with 0\n",
    "    D = np.diag(D_vals)\n",
    "    return D\n",
    "\n",
    "def calc_laplacian(A,D):\n",
    "    '''\n",
    "    calculates normalized laplacian matrix of A\n",
    "    '''\n",
    "    n = A.shape[0]\n",
    "    \n",
    "    L = np.identity(n) - (D @ A @ D)\n",
    "    \n",
    "    return L\n",
    "\n",
    "def solve_eigen_problem(L):\n",
    "    '''\n",
    "    solves the eigen-value problem for laplacian matrix L\n",
    "    '''\n",
    "    \n",
    "    eigvals, eigvecs = np.linalg.eigh(L)\n",
    "    \n",
    "    return eigvals, eigvecs\n",
    "\n",
    "\n",
    "def cluster_embeddings(U, k):\n",
    "    \"\"\"\n",
    "    Run k‐means on the rows of U to get k clusters.\n",
    "    \"\"\"\n",
    "    km = KMeans(n_clusters=k, random_state=42)\n",
    "    return km.fit_predict(U)\n",
    "\n",
    "def find_optimal_k(U, k_min=2, k_max=10):\n",
    "    \"\"\"\n",
    "    Compute silhouette scores for each k in [k_min, k_max]\n",
    "    and return the best k (and its score).\n",
    "    \"\"\"\n",
    "    best_k, best_score = k_min, -1.0\n",
    "    for k in range(k_min, min(k_max, U.shape[0]-1) + 1):\n",
    "        labels = cluster_embeddings(U[:, :k], k)\n",
    "        score = silhouette_score(U[:, :k], labels)\n",
    "        if score > best_score:\n",
    "            best_score, best_k = score, k\n",
    "    return best_k, best_score\n",
    "\n",
    "\n",
    "def cluster_to_dict(E,k):\n",
    "    '''\n",
    "    E : list of embeddings\n",
    "    k : number of clusters\n",
    "    '''\n",
    "    \n",
    "    clusD = dict(zip(range(k),[[] for i in range(k)]))\n",
    "    \n",
    "    for i,e in enumerate(E):\n",
    "        clusD[e].append(i)\n",
    "    \n",
    "    \n",
    "    return clusD\n",
    "\n",
    "def draw(G, seed=42,node_colors=None,ax=None):\n",
    "    # Set edge colors and styles\n",
    "    edge_colors = []\n",
    "    edge_styles = []\n",
    "    for u, v in G.edges():\n",
    "        if G[u][v]['type'] == 'activation':\n",
    "            edge_colors.append('green')\n",
    "            edge_styles.append(('solid', '->'))\n",
    "        else:\n",
    "            edge_colors.append('red')\n",
    "            edge_styles.append(('dashed', '-['))  # corrected from '-]' to '-['\n",
    "\n",
    "    # Graph layout\n",
    "    pos = nx.spring_layout(G, seed=seed)\n",
    "\n",
    "    # Draw nodes and labels\n",
    "    if node_colors == None:\n",
    "        nx.draw_networkx_nodes(G, pos, node_color='lightblue', node_size=400, ax=ax)\n",
    "        nx.draw_networkx_labels(G, pos, font_size=12, font_weight='bold',ax = ax)\n",
    "    else:\n",
    "        nx.draw_networkx_nodes(G, pos, node_color=node_colors, node_size=400, ax=ax)\n",
    "        nx.draw_networkx_labels(G, pos, font_size=12, font_weight='bold', ax=ax)     \n",
    "\n",
    "    # Draw edges by style\n",
    "    for style in set(edge_styles):\n",
    "        styled_edges = [(u, v) for (u, v), s in zip(G.edges(), edge_styles) if s == style]\n",
    "        color = 'green' if style[0] == 'solid' else 'red'\n",
    "        arrowstyle = style[1]  # either '->' or '-['\n",
    "        nx.draw_networkx_edges(\n",
    "            G, pos, ax=ax,\n",
    "            edgelist=styled_edges,\n",
    "            edge_color=color,\n",
    "            style=style[0],\n",
    "            arrowstyle=arrowstyle,\n",
    "            arrowsize=12,\n",
    "            connectionstyle=\"arc3,rad=0.1\",\n",
    "            width=2\n",
    "        )\n",
    "\n",
    "    \n",
    "    plt.axis('off')\n",
    "\n",
    "def make_graph(adj_matrix, genes):\n",
    "    '''\n",
    "    A : adjacency matrix {1,0,-1}\n",
    "    nodes : list of node names\n",
    "    '''\n",
    "\n",
    "    # Create an empty directed graph\n",
    "    G = nx.DiGraph()\n",
    "\n",
    "    # Add nodes\n",
    "    G.add_nodes_from(genes)\n",
    "\n",
    "    # Add edges based on the adjacency matrix\n",
    "    for i in range(len(genes)):\n",
    "        for j in range(len(genes)):\n",
    "            interaction = adj_matrix[i][j]\n",
    "            if interaction != 0:\n",
    "                G.add_edge(genes[i], genes[j],\n",
    "                           type='activation' if interaction ==1  else 'repression',\n",
    "                           style='->' if interaction == 1 else '-]')\n",
    "                \n",
    "                \n",
    "    return G\n",
    "\n",
    "def compute_affinity(A, alpha=1.0, Nmax=10):\n",
    "    \"\"\"\n",
    "    Compute a truncated matrix‐exponential affinity:\n",
    "      K ≈ sum_{n=0}^Nmax (α^n / n!) A^n\n",
    "    and then take absolute value to ensure nonnegativity.\n",
    "    \"\"\"\n",
    "    N = A.shape[0]\n",
    "    K = np.eye(N)\n",
    "    A_power = np.eye(N)\n",
    "    for n in range(1, Nmax + 1):\n",
    "        A_power = A_power @ A\n",
    "        K += (alpha**n / np.math.factorial(n)) * A_power\n",
    "    return np.abs(K),K\n",
    "\n",
    "def calc_m(A,n=4,weights = [1,0.5,0.25,0.125]):\n",
    "    \n",
    "    An = []\n",
    "    An.append(A)\n",
    "    \n",
    "    for i in range(1,n+1):\n",
    "        a = An[i-1] @ A\n",
    "        An.append(a)\n",
    "    \n",
    "    M = sum([w*a for w,a in zip(weights,An)])\n",
    "    \n",
    "    return np.abs(M),M\n",
    "\n",
    "\n",
    "def full_pipeline_signed_laplacian(A,n=4, weights = [1,0.5,0.25,0.125], affinity_mode = True, k_min=2,k_max=10,labels = None,plot=False,sd=24):\n",
    "    \n",
    "    if affinity_mode:\n",
    "        #A_a = compute_affinity(A,alpha=alpha,Nmax=Nmax)[1]\n",
    "        A_a = calc_m(A,n=n,weights = weights)[1]\n",
    "        #print(A_a)\n",
    "        A_a2 = calc_m(np.sign(A_a),n=n,weights = weights)[1]\n",
    "#         A_a3 = calc_m(np.sign(A_a2),n=n,weights = weights)[1]\n",
    "#         A_a4 = calc_m(np.sign(A_a3),n=n,weights = weights)[1]\n",
    "#         A_a5 = calc_m(np.sign(A_a4),n=n,weights = weights)[1]\n",
    "#         A_a6 = calc_m(np.sign(A_a5),n=n,weights = weights)[1]\n",
    "    else:\n",
    "        A_a = A\n",
    "    \n",
    "    #A_a2 = A_a\n",
    "    \n",
    "    D = calc_degree_matrix(np.sign(A_a2))\n",
    "    \n",
    "    L = calc_laplacian(A_a2,D)\n",
    "    \n",
    "    eigvalues, eigvectors = solve_eigen_problem(L)\n",
    "    \n",
    "    best_k, best_score = find_optimal_k(eigvectors, k_min, k_max)\n",
    "    \n",
    "    embeddings = cluster_embeddings(eigvectors[:,:best_k],best_k)\n",
    "    \n",
    "    \n",
    "    clusD = cluster_to_dict(list(embeddings),best_k)\n",
    "    \n",
    "\n",
    "    \n",
    "    if plot:\n",
    "        \n",
    "        G = make_graph(A,labels)\n",
    "        \n",
    "        colors = ['yellow','magenta','cyan','orange','red','skyblue','green']\n",
    "        \n",
    "        node_colors = [colors[i] for i in embeddings]\n",
    "        \n",
    "        #print(embeddings,node_colors)\n",
    "        \n",
    "        fig,axs = plt.subplots(1,2,figsize=(14,7))\n",
    "        axs = axs.flatten()\n",
    "        \n",
    "        axs[0].set_title('Input GRN')\n",
    "        draw(G,seed=sd,node_colors=None,ax=axs[0])\n",
    "        axs[1].set_title('Clustered GRN')\n",
    "        draw(G,seed=sd,node_colors=node_colors,ax=axs[1])\n",
    "        \n",
    "    print('Spectral Clustering Completed')\n",
    "    print(f'Best K : {best_k}\\t Silhouette Score : {best_score : .2f}')\n",
    "    print(f'Cluster Details : ')\n",
    "    \n",
    "    for key,value in clusD.items():\n",
    "        print(f'Cluster {key+1} : {[labels[i] for i in value]}')\n",
    "        \n",
    "    \n",
    "    return A_a,A_a2,D,L,[eigvalues,eigvectors],embeddings"
   ]
  },
  {
   "cell_type": "code",
   "execution_count": 7,
   "metadata": {},
   "outputs": [],
   "source": [
    "genes4 = [\"A\", \"B\", \"C\", \"D\",\"E\",\"F\",\"G\",\"H\"]\n",
    "A4 = np.array([[0,0,1,0,0,0,-1,0],\n",
    "             [0,0,0,-1,0,0,0,0],\n",
    "             [1,1,0,0,0,0,0,0],\n",
    "             [0,0,0,0,1,0,0,0],\n",
    "             [0,0,0,1,0,-1,0,0],\n",
    "             [0,0,0,0,0,0,1,0],\n",
    "             [0,0,0,0,0,1,0,0],\n",
    "             [0,-1,0,0,0,0,1,0]])\n",
    "\n",
    "A5 = np.array([[0,0,1,0,0,0,0,1],\n",
    "             [0,0,0,-1,0,0,0,0],\n",
    "             [1,1,0,0,0,0,0,0],\n",
    "             [0,0,0,0,1,0,0,0],\n",
    "             [0,0,0,1,0,0,0,0],\n",
    "             [0,0,0,0,0,0,1,0],\n",
    "             [0,0,0,0,0,1,0,0],\n",
    "             [0,-1,0,0,0,0,1,0]])\n",
    "\n",
    "A6 = np.array([[0,0,1,0,0,0,-1,1],\n",
    "             [0,0,0,-1,0,0,0,0],\n",
    "             [1,1,0,0,0,0,0,0],\n",
    "             [0,0,0,0,1,0,0,0],\n",
    "             [0,0,0,1,0,-1,0,0],\n",
    "             [0,0,0,0,0,0,1,0],\n",
    "             [0,0,0,0,0,1,0,1],\n",
    "             [0,-1,0,0,0,0,1,0]])\n",
    "\n",
    "\n",
    "genes_t2 = [\"A\", \"B\", \"C\"]\n",
    "\n",
    "At = np.array([[0,-1,0],\n",
    "             [0,0,-1],\n",
    "             [0,0,0]])\n",
    "\n",
    "At2 = np.array([[0,-1,0],\n",
    "             [-1,0,-1],\n",
    "             [0,-1,0]])\n",
    "\n",
    "At3 = np.array([[0,-1,0,0],\n",
    "                [0,0,-1,-1],\n",
    "                [0,0,0,0],\n",
    "                [0,0,1,0]])\n",
    "\n",
    "genes_t3 = [\"A\", \"B\", \"C\",\"D\"]\n",
    "\n"
   ]
  },
  {
   "cell_type": "code",
   "execution_count": 8,
   "metadata": {},
   "outputs": [
    {
     "name": "stdout",
     "output_type": "stream",
     "text": [
      "Spectral Clustering Completed\n",
      "Best K : 2\t Silhouette Score :  0.32\n",
      "Cluster Details : \n",
      "Cluster 1 : ['B']\n",
      "Cluster 2 : ['A', 'C', 'D']\n"
     ]
    },
    {
     "data": {
      "image/png": "[encoded data removed]",
      "text/plain": [
       "<Figure size 1008x504 with 2 Axes>"
      ]
     },
     "metadata": {},
     "output_type": "display_data"
    }
   ],
   "source": [
    "\n",
    "#choose number of steps / order of interaction you want to account for\n",
    "n = 4\n",
    "#gemoetrically decaying weight\n",
    "W = [1/(2**i) for i in range(n)]\n",
    "\n",
    "A_a,A_a2,D,L,E,embed = full_pipeline_signed_laplacian(At3,n=n,weights=W, affinity_mode = True, labels=genes_t3,plot=True,k_min=2)"
   ]
  },
  {
   "cell_type": "code",
   "execution_count": 9,
   "metadata": {},
   "outputs": [
    {
     "data": {
      "text/plain": [
       "array([[ 0.  , -1.  ,  0.75,  0.5 ],\n",
       "       [ 0.  ,  0.  , -1.5 , -1.  ],\n",
       "       [ 0.  ,  0.  ,  0.  ,  0.  ],\n",
       "       [ 0.  ,  0.  ,  1.  ,  0.  ]])"
      ]
     },
     "execution_count": 9,
     "metadata": {},
     "output_type": "execute_result"
    }
   ],
   "source": [
    "A_a"
   ]
  },
  {
   "cell_type": "code",
   "execution_count": 10,
   "metadata": {},
   "outputs": [
    {
     "data": {
      "text/plain": [
       "array([[ 0.  , -1.  ,  2.25,  1.5 ],\n",
       "       [ 0.  ,  0.  , -1.5 , -1.  ],\n",
       "       [ 0.  ,  0.  ,  0.  ,  0.  ],\n",
       "       [ 0.  ,  0.  ,  1.  ,  0.  ]])"
      ]
     },
     "execution_count": 10,
     "metadata": {},
     "output_type": "execute_result"
    }
   ],
   "source": [
    "A_a2"
   ]
  },
  {
   "cell_type": "code",
   "execution_count": 11,
   "metadata": {},
   "outputs": [
    {
     "data": {
      "text/plain": [
       "array([[0.57735027, 0.        , 0.        , 0.        ],\n",
       "       [0.        , 0.70710678, 0.        , 0.        ],\n",
       "       [0.        , 0.        , 0.        , 0.        ],\n",
       "       [0.        , 0.        , 0.        , 1.        ]])"
      ]
     },
     "execution_count": 11,
     "metadata": {},
     "output_type": "execute_result"
    }
   ],
   "source": [
    "D"
   ]
  },
  {
   "cell_type": "code",
   "execution_count": 12,
   "metadata": {},
   "outputs": [
    {
     "data": {
      "text/plain": [
       "array([[ 1.        ,  0.40824829,  0.        , -0.8660254 ],\n",
       "       [ 0.        ,  1.        ,  0.        ,  0.70710678],\n",
       "       [ 0.        ,  0.        ,  1.        ,  0.        ],\n",
       "       [ 0.        ,  0.        ,  0.        ,  1.        ]])"
      ]
     },
     "execution_count": 12,
     "metadata": {},
     "output_type": "execute_result"
    }
   ],
   "source": [
    "L"
   ]
  },
  {
   "cell_type": "code",
   "execution_count": 13,
   "metadata": {},
   "outputs": [
    {
     "data": {
      "text/plain": [
       "(array([1., 1., 1., 1.]),\n",
       " array([[1., 0., 0., 0.],\n",
       "        [0., 1., 0., 0.],\n",
       "        [0., 0., 1., 0.],\n",
       "        [0., 0., 0., 1.]]))"
      ]
     },
     "execution_count": 13,
     "metadata": {},
     "output_type": "execute_result"
    }
   ],
   "source": [
    "solve_eigen_problem(L)"
   ]
  },
  {
   "cell_type": "code",
   "execution_count": 26,
   "metadata": {},
   "outputs": [
    {
     "data": {
      "text/plain": [
       "<Axes: title={'center': 'Second Affinity Matrix'}>"
      ]
     },
     "execution_count": 26,
     "metadata": {},
     "output_type": "execute_result"
    },
    {
     "data": {
      "image/png": "[encoded data removed]",
      "text/plain": [
       "<Figure size 1440x288 with 6 Axes>"
      ]
     },
     "metadata": {
      "needs_background": "light"
     },
     "output_type": "display_data"
    }
   ],
   "source": [
    "fig, axs = plt.subplots(1,3,figsize=(20,4))\n",
    "\n",
    "axs = axs.flatten()\n",
    "axs[0].set_title('Original Adjacency Matrix')\n",
    "sns.heatmap(pd.DataFrame(At3,columns=genes_t3,index=genes_t3),cmap='Blues',ax=axs[0])\n",
    "axs[1].set_title('First Affinity Matrix')\n",
    "sns.heatmap(pd.DataFrame(A_a,columns=genes_t3,index=genes_t3),cmap='Blues',ax=axs[1])\n",
    "axs[2].set_title('Second Affinity Matrix')\n",
    "sns.heatmap(pd.DataFrame(A_a2,columns=genes_t3,index=genes_t3),cmap='Blues',ax=axs[2])"
   ]
  },
  {
   "cell_type": "code",
   "execution_count": null,
   "metadata": {},
   "outputs": [],
   "source": []
  }
 ],
 "metadata": {
  "kernelspec": {
   "display_name": "Python 3",
   "language": "python",
   "name": "python3"
  },
  "language_info": {
   "codemirror_mode": {
    "name": "ipython",
    "version": 3
   },
   "file_extension": ".py",
   "mimetype": "text/x-python",
   "name": "python",
   "nbconvert_exporter": "python",
   "pygments_lexer": "ipython3",
   "version": "3.8.5"
  }
 },
 "nbformat": 4,
 "nbformat_minor": 4
}
